{
 "cells": [
  {
   "cell_type": "markdown",
   "id": "5df1403b",
   "metadata": {},
   "source": [
    "# Student_Att"
   ]
  },
  {
   "cell_type": "markdown",
   "id": "8a528c07",
   "metadata": {},
   "source": [
    "## 1.3 - Student Attendance"
   ]
  },
  {
   "cell_type": "markdown",
   "id": "baa43a86",
   "metadata": {},
   "source": [
    "## Task Description"
   ]
  },
  {
   "cell_type": "markdown",
   "id": "9fa69ad3",
   "metadata": {},
   "source": [
    "Write a Python program to find out the attendance record of a student. The\n",
    "program must use the attendance records in CWDatabase.db. Save the program\n",
    "as Student_Att.ipynb.\n",
    "Given student ID, your program should produce a list which shows weekly\n",
    "attendance of all the modules, and appropriately visualises the list by using the\n",
    "Matplotlib module."
   ]
  },
  {
   "cell_type": "markdown",
   "id": "2758a023",
   "metadata": {},
   "source": [
    "Firstly, necessary modules are imported into the notebook:"
   ]
  },
  {
   "cell_type": "code",
   "execution_count": 1,
   "id": "180f14df",
   "metadata": {},
   "outputs": [],
   "source": [
    "# import modules\n",
    "import numpy as np\n",
    "import pandas as pd\n",
    "import sqlite3\n",
    "import matplotlib.pyplot as plt"
   ]
  },
  {
   "cell_type": "markdown",
   "id": "7c3f247d",
   "metadata": {},
   "source": [
    "## Define Variables"
   ]
  },
  {
   "cell_type": "markdown",
   "id": "0f174d26",
   "metadata": {},
   "source": [
    "Note: The order you enter the modules in does not matter."
   ]
  },
  {
   "cell_type": "code",
   "execution_count": 2,
   "id": "f83d48d9",
   "metadata": {},
   "outputs": [],
   "source": [
    "def define_variables_1():\n",
    "    \"\"\"\n",
    "    This function prompts the user to enter a student ID and two module codes.\n",
    "    \n",
    "    Args:\n",
    "    None\n",
    "    \n",
    "    Returns:\n",
    "    student_ID, mod1, mod2: Users input for each variable.\n",
    "    \"\"\"\n",
    "    student_ID = input(\"Please enter a student ID (e.g. 1, 240):\")\n",
    "    mod1 = input(\"Please enter module 1 code (e.g. 22COA122):\")\n",
    "    mod2 = input(\"Please enter module 2 code (e.g. 22COA111 ):\")\n",
    "    return student_ID, mod1, mod2"
   ]
  },
  {
   "cell_type": "markdown",
   "id": "fdfc5823",
   "metadata": {},
   "source": [
    "## Find average weekly attendance for Module 1"
   ]
  },
  {
   "cell_type": "markdown",
   "id": "d0d5fe1c",
   "metadata": {},
   "source": [
    "Note: While the initial dataframe has Na values for students who have authorised absences, I have opted to use fillna(0) to view these as absent regardless of the circumstances. While I understand that this is not the most optimal method, this is the logic I have used in order to determine how the students attendances are calculated.\n",
    "\n",
    "This same logic will be used consistently throughout the entire notebook."
   ]
  },
  {
   "cell_type": "code",
   "execution_count": 3,
   "id": "2ab5dd89",
   "metadata": {},
   "outputs": [],
   "source": [
    "def avg_weekly_att_mod1(mod1, student_ID):\n",
    "    \"\"\"\n",
    "    This function filters the SQL table to only show data for a specific\n",
    "    student ID. It reads the attendance and sessions table for the desired\n",
    "    module, merges the dataframes, groups by week, and calculates the mean\n",
    "    attendance.\n",
    "    A validity check is present to print a message if ID does not exist.\n",
    "    \n",
    "    Args:\n",
    "    mod1 (str): The module code entered by the user in the previous function.\n",
    "    student_ID (str): The ID of the student who the weekly average attendance\n",
    "    is being calculated for.\n",
    "    \n",
    "    Returns:\n",
    "    stu_avg_module_1 (pd.DataFrame): A dataframe containing weekly average\n",
    "    attendance of the student in the provided module (mod1).\n",
    "    \"\"\"\n",
    "    conn = sqlite3.connect(\"CWDatabase.db\")\n",
    "    df1_student_data = pd.read_sql_query\\\n",
    "    (f\"SELECT * FROM '{mod1}ModuleRegister_attendance' WHERE s_id = {student_ID}\",\n",
    "     conn, index_col = ['s_id'])\n",
    "    \n",
    "    # validity check of student ID:\n",
    "    if df1_student_data.empty:\n",
    "        print(f\"ID {student_ID} not found in the sql database\")\n",
    "    \n",
    "    df1_week_data = pd.read_sql_query\\\n",
    "    (f\"SELECT Week, s_id FROM '{mod1}ModuleRegister_sessions'\",\n",
    "     conn, index_col = ['s_id'])\n",
    "\n",
    "    # transpose attendance dataframe\n",
    "    df1_student_data = df1_student_data.T\n",
    "\n",
    "    #fill na with 0 so NaN does not hinder avg calculation\n",
    "    df1_student_data = df1_student_data.fillna(0)\n",
    "\n",
    "    # make the 's_id' in integer format\n",
    "    df1_student_data.index = df1_student_data.index.astype(int)\n",
    "    df1_week_data.index = df1_week_data.index.astype(int)\n",
    "\n",
    "    # merge both dataframes\n",
    "    stu_week_att_1 = pd.merge(df1_student_data, df1_week_data, left_index=True, right_index=True, how='inner')\n",
    "\n",
    "    # ensure index is still labelled correctly\n",
    "    stu_week_att_1 = stu_week_att_1.rename_axis('s_id', axis = 0)\n",
    "    \n",
    "    #find weekly mean attendance in percentages\n",
    "    stu_avg_module_1 = stu_week_att_1.groupby('Week').mean().mul(100)\n",
    "    return stu_avg_module_1"
   ]
  },
  {
   "cell_type": "markdown",
   "id": "e20bb680",
   "metadata": {},
   "source": [
    "## Find average weekly attendance for Module 2"
   ]
  },
  {
   "cell_type": "code",
   "execution_count": 4,
   "id": "d79e7cdb",
   "metadata": {},
   "outputs": [],
   "source": [
    "def avg_weekly_att_mod2(mod2, student_ID):\n",
    "    \"\"\"\n",
    "    This function filters the SQL table to only show data for a specific\n",
    "    student ID. It reads the attendance and sessions table for the desired\n",
    "    module, merges the dataframes, groups by week, and calculates the mean\n",
    "    attendance.\n",
    "    A validity check is present to print a message if ID does not exist.\n",
    "\n",
    "    Args:\n",
    "    mod2 (str): The module code entered by the user in the previous function.\n",
    "    student_ID (str): The ID of the student who the weekly average attendance\n",
    "    is being calculated for.\n",
    "    \n",
    "    Returns:\n",
    "    stu_avg_module_2 (pd.DataFrame): A dataframe containing weekly average\n",
    "    attendance of the student in the provided module (mod2).\n",
    "    \"\"\"\n",
    "    conn = sqlite3.connect(\"CWDatabase.db\")\n",
    "    df2_student_data = pd.read_sql_query\\\n",
    "    (f\"SELECT * FROM '{mod2}ModuleRegister_attendance' WHERE s_id = {student_ID}\",\n",
    "     conn, index_col = ['s_id'])\n",
    "    \n",
    "    # validity check of student ID:\n",
    "    if df2_student_data.empty:\n",
    "        print(f\"ID {student_ID} not found in the sql database\")\n",
    "    \n",
    "    df2_week_data = pd.read_sql_query\\\n",
    "    (f\"SELECT Week, s_id FROM '{mod2}ModuleRegister_sessions'\",\n",
    "     conn,index_col = ['s_id'])\n",
    "    \n",
    "    # transpose attendance dataframe\n",
    "    df2_student_data = df2_student_data.T\n",
    "\n",
    "    #fill na with 0 so NaN does not hinder avg calculation\n",
    "    df2_student_data = df2_student_data.fillna(0)\n",
    "\n",
    "    # make the 's_id' in integer format\n",
    "    df2_student_data.index = df2_student_data.index.astype(int)\n",
    "    df2_week_data.index = df2_week_data.index.astype(int)\n",
    "\n",
    "    # merge both dataframes\n",
    "    stu_week_att_2 = pd.merge(df2_student_data, df2_week_data, left_index=True,\n",
    "                              right_index=True, how='inner')\n",
    "\n",
    "    # ensure index is still labelled correctly\n",
    "    stu_week_att_2 = stu_week_att_2.rename_axis('s_id', axis = 0)\n",
    "\n",
    "    #find weekly mean attendance in percentages\n",
    "    stu_avg_module_2 = stu_week_att_2.groupby('Week').mean().mul(100)\n",
    "    return stu_avg_module_2"
   ]
  },
  {
   "cell_type": "markdown",
   "id": "6aa58a4a",
   "metadata": {},
   "source": [
    "## Combine relevant data into a single dataframe"
   ]
  },
  {
   "cell_type": "code",
   "execution_count": 5,
   "id": "5c127bf3",
   "metadata": {},
   "outputs": [],
   "source": [
    "def join_module_data(stu_avg_module_1, stu_avg_module_2, mod1, mod2, student_ID):\n",
    "    \"\"\"\n",
    "    This function outer joins the average weekly attendance data for\n",
    "    a student over both modules into one single pandas dataframe. \n",
    "    It also creates a suffix to differentiate columns.\n",
    "    It then fills Na values with 0.\n",
    "    \n",
    "    Args:\n",
    "    stu_avg_module_1 (pd.DataFrame): Dataframe containing avg attendance in\n",
    "    mod1.\n",
    "    stu_avg_module_2 (pd.DataFrame): Dataframe containing avg attendance in\n",
    "    mod2.\n",
    "    mod1 (str): Code for module 1\n",
    "    mod2 (str): Code for module 2\n",
    "    student_ID (str): ID of student for whom weekly attendance is being\n",
    "    calculated.\n",
    "\n",
    "    Returns:\n",
    "    stu_att_df (pd.DataFrame): Dataframe containing combined averages for\n",
    "    both modules.\n",
    "    \"\"\"\n",
    "    # outer join merge on 'week' with a suffix to identify module\n",
    "    stu_att_df = pd.merge(stu_avg_module_1, stu_avg_module_2, on = 'Week',\n",
    "                          how = 'outer', suffixes = (f'_{mod1}',f'_{mod2}'))\n",
    "    \n",
    "    # in case new NaN form due to extra weeks\n",
    "    stu_att_df = stu_att_df.fillna(0)\n",
    "    return stu_att_df"
   ]
  },
  {
   "cell_type": "markdown",
   "id": "cfe04227",
   "metadata": {},
   "source": [
    "## Create visualisation"
   ]
  },
  {
   "cell_type": "code",
   "execution_count": 6,
   "id": "13f18e28",
   "metadata": {},
   "outputs": [],
   "source": [
    "def stu_att_graph(stu_att_df, mod1, mod2, student_ID):\n",
    "    \"\"\"\n",
    "    This function creates a bar graph to show the weekly average atttendance\n",
    "    of a student in two given modules. It uses the joined dataframe 'stu_att_df'\n",
    "    to do this.\n",
    "    \n",
    "    Args:\n",
    "    stu_avg_df (pd.DataFrame): Dataframe containing avg attendance in mod1.\n",
    "    mod1 (str): Code for module 1\n",
    "    mod2 (str): Code for module 2\n",
    "    student_ID (str): ID of student for whom a graph is created.\n",
    "    \n",
    "    Returns:\n",
    "    None: A bar graph is plotted using matplotlib.pyplot.\n",
    "    \"\"\"\n",
    "    # Extract the 'Week',COA122%, COA111% columns from the DataFrame\n",
    "    x = range(1, stu_att_df.shape[0] + 1)\n",
    "    y1 = stu_att_df[f'{student_ID}_{mod1}']\n",
    "    y2 = stu_att_df[f'{student_ID}_{mod2}']\n",
    "    \n",
    "    plt.bar([a-0.25 for a in x], y1, width = 0.4, label = mod1)\n",
    "    plt.bar([a+0.25 for a in x], y2, width = -0.4, label = mod2)\n",
    "    plt.xlabel('Week No')\n",
    "    plt.ylabel('Attendance (%)')\n",
    "    plt.legend(loc='upper left')\n",
    "    plt.title(f\"Attendance for Student: {student_ID}\")\n",
    "    plt.xticks(x)\n",
    "    plt.grid()\n",
    "    # Show the plot\n",
    "    plt.show()"
   ]
  },
  {
   "cell_type": "markdown",
   "id": "e8faf4cc",
   "metadata": {},
   "source": [
    "# Main Code"
   ]
  },
  {
   "cell_type": "code",
   "execution_count": 7,
   "id": "fcb07a73",
   "metadata": {
    "scrolled": false
   },
   "outputs": [],
   "source": [
    "def main_student_att():\n",
    "    \"\"\"\n",
    "    This is the main function that links all the previous functions into one.\n",
    "    \n",
    "    Args:\n",
    "    None\n",
    "    \n",
    "    Returns:\n",
    "    None\n",
    "    \"\"\"\n",
    "    student_ID, mod1, mod2 = define_variables_1()\n",
    "    stu_avg_module_1 = avg_weekly_att_mod1(mod1, student_ID)\n",
    "    stu_avg_module_2 = avg_weekly_att_mod2(mod2, student_ID)\n",
    "    stu_att_df = join_module_data(stu_avg_module_1, stu_avg_module_2,\n",
    "                                  mod1, mod2, student_ID)\n",
    "    \n",
    "    print(f\"Df below shows avg weekly attendance percentage for a student \\n\\\n",
    "    with ID {student_ID} in both {mod1} and {mod2}:\")\n",
    "    display(stu_att_df)\n",
    "    \n",
    "    stu_att_figure = stu_att_graph(stu_att_df, mod1, mod2, student_ID)"
   ]
  },
  {
   "cell_type": "markdown",
   "id": "a08aa8c7",
   "metadata": {},
   "source": [
    "## Main Test Code"
   ]
  },
  {
   "cell_type": "markdown",
   "id": "762ad95c",
   "metadata": {},
   "source": [
    "This test code will make use of the two modules that are available (22COA122, 22COA111).\n",
    "\n",
    "These can be used in either order, or substitued for an alternative module with the same format, as long as it is saved in the sql database through the correct pre-processing procedure in the previous notebook for CW_Preprocessing.\n",
    "\n",
    "For this test code:\n",
    "(Although any of these can be changed if you rerun the main function)\n",
    "\n",
    "student_ID = 1\n",
    "\n",
    "mod1 = 22COA122\n",
    "\n",
    "mod2 = 22COA111"
   ]
  },
  {
   "cell_type": "markdown",
   "id": "3943ee88",
   "metadata": {},
   "source": [
    "The output of the main test code will show a dataframe of weekly average attendances for both modules.\n",
    "It will also show a bar graph which is created using the dataframe present."
   ]
  },
  {
   "cell_type": "code",
   "execution_count": 8,
   "id": "109258e3",
   "metadata": {
    "scrolled": false
   },
   "outputs": [
    {
     "name": "stdout",
     "output_type": "stream",
     "text": [
      "Please enter a student ID (e.g. 1, 240):1\n",
      "Please enter module 1 code (e.g. 22COA122):22COA122\n",
      "Please enter module 2 code (e.g. 22COA111 ):22COA111\n",
      "Df below shows avg weekly attendance percentage for a student \n",
      "    with ID 1 in both 22COA122 and 22COA111:\n"
     ]
    },
    {
     "data": {
      "text/html": [
       "<div>\n",
       "<style scoped>\n",
       "    .dataframe tbody tr th:only-of-type {\n",
       "        vertical-align: middle;\n",
       "    }\n",
       "\n",
       "    .dataframe tbody tr th {\n",
       "        vertical-align: top;\n",
       "    }\n",
       "\n",
       "    .dataframe thead th {\n",
       "        text-align: right;\n",
       "    }\n",
       "</style>\n",
       "<table border=\"1\" class=\"dataframe\">\n",
       "  <thead>\n",
       "    <tr style=\"text-align: right;\">\n",
       "      <th></th>\n",
       "      <th>1_22COA122</th>\n",
       "      <th>1_22COA111</th>\n",
       "    </tr>\n",
       "    <tr>\n",
       "      <th>Week</th>\n",
       "      <th></th>\n",
       "      <th></th>\n",
       "    </tr>\n",
       "  </thead>\n",
       "  <tbody>\n",
       "    <tr>\n",
       "      <th>W1</th>\n",
       "      <td>66.666667</td>\n",
       "      <td>100.000000</td>\n",
       "    </tr>\n",
       "    <tr>\n",
       "      <th>W2</th>\n",
       "      <td>66.666667</td>\n",
       "      <td>66.666667</td>\n",
       "    </tr>\n",
       "    <tr>\n",
       "      <th>W3</th>\n",
       "      <td>66.666667</td>\n",
       "      <td>100.000000</td>\n",
       "    </tr>\n",
       "    <tr>\n",
       "      <th>W4</th>\n",
       "      <td>75.000000</td>\n",
       "      <td>100.000000</td>\n",
       "    </tr>\n",
       "    <tr>\n",
       "      <th>W5</th>\n",
       "      <td>66.666667</td>\n",
       "      <td>100.000000</td>\n",
       "    </tr>\n",
       "    <tr>\n",
       "      <th>W6</th>\n",
       "      <td>100.000000</td>\n",
       "      <td>0.000000</td>\n",
       "    </tr>\n",
       "  </tbody>\n",
       "</table>\n",
       "</div>"
      ],
      "text/plain": [
       "      1_22COA122  1_22COA111\n",
       "Week                        \n",
       "W1     66.666667  100.000000\n",
       "W2     66.666667   66.666667\n",
       "W3     66.666667  100.000000\n",
       "W4     75.000000  100.000000\n",
       "W5     66.666667  100.000000\n",
       "W6    100.000000    0.000000"
      ]
     },
     "metadata": {},
     "output_type": "display_data"
    },
    {
     "data": {
      "image/png": "[encoded data removed]",
      "text/plain": [
       "<Figure size 640x480 with 1 Axes>"
      ]
     },
     "metadata": {},
     "output_type": "display_data"
    }
   ],
   "source": [
    "main_student_att()"
   ]
  },
  {
   "cell_type": "markdown",
   "id": "61cd5f13",
   "metadata": {},
   "source": [
    "# Testing all functions in the Notebook"
   ]
  },
  {
   "cell_type": "markdown",
   "id": "d4f68257",
   "metadata": {},
   "source": [
    "Running the function (define_variables_1) shows that the user is asked to enter an input for all three variables. Printing the variables shows that python has successfully defined the variables with the user input."
   ]
  },
  {
   "cell_type": "code",
   "execution_count": 9,
   "id": "1963af4b",
   "metadata": {},
   "outputs": [
    {
     "name": "stdout",
     "output_type": "stream",
     "text": [
      "Please enter a student ID (e.g. 1, 240):1\n",
      "Please enter module 1 code (e.g. 22COA122):22COA122\n",
      "Please enter module 2 code (e.g. 22COA111 ):22COA111\n",
      "1 22COA122 22COA111\n"
     ]
    }
   ],
   "source": [
    "student_ID, mod1, mod2 = define_variables_1()\n",
    "print(student_ID, mod1, mod2)"
   ]
  },
  {
   "cell_type": "markdown",
   "id": "cfa8ebcf",
   "metadata": {},
   "source": [
    "Running the function (avg_weekly_att_mod1) shows a list of weekly attendance for the specified student using the student_ID variable. It shows this weekly attendance for the specified module (module 1) that the user requests."
   ]
  },
  {
   "cell_type": "code",
   "execution_count": 10,
   "id": "b64ca323",
   "metadata": {},
   "outputs": [
    {
     "name": "stdout",
     "output_type": "stream",
     "text": [
      "The dataframe below is for average weekly attendance of student\n",
      "1 in 22COA122:\n"
     ]
    },
    {
     "data": {
      "text/html": [
       "<div>\n",
       "<style scoped>\n",
       "    .dataframe tbody tr th:only-of-type {\n",
       "        vertical-align: middle;\n",
       "    }\n",
       "\n",
       "    .dataframe tbody tr th {\n",
       "        vertical-align: top;\n",
       "    }\n",
       "\n",
       "    .dataframe thead th {\n",
       "        text-align: right;\n",
       "    }\n",
       "</style>\n",
       "<table border=\"1\" class=\"dataframe\">\n",
       "  <thead>\n",
       "    <tr style=\"text-align: right;\">\n",
       "      <th></th>\n",
       "      <th>1</th>\n",
       "    </tr>\n",
       "    <tr>\n",
       "      <th>Week</th>\n",
       "      <th></th>\n",
       "    </tr>\n",
       "  </thead>\n",
       "  <tbody>\n",
       "    <tr>\n",
       "      <th>W1</th>\n",
       "      <td>66.666667</td>\n",
       "    </tr>\n",
       "    <tr>\n",
       "      <th>W2</th>\n",
       "      <td>66.666667</td>\n",
       "    </tr>\n",
       "    <tr>\n",
       "      <th>W3</th>\n",
       "      <td>66.666667</td>\n",
       "    </tr>\n",
       "    <tr>\n",
       "      <th>W4</th>\n",
       "      <td>75.000000</td>\n",
       "    </tr>\n",
       "    <tr>\n",
       "      <th>W5</th>\n",
       "      <td>66.666667</td>\n",
       "    </tr>\n",
       "    <tr>\n",
       "      <th>W6</th>\n",
       "      <td>100.000000</td>\n",
       "    </tr>\n",
       "  </tbody>\n",
       "</table>\n",
       "</div>"
      ],
      "text/plain": [
       "               1\n",
       "Week            \n",
       "W1     66.666667\n",
       "W2     66.666667\n",
       "W3     66.666667\n",
       "W4     75.000000\n",
       "W5     66.666667\n",
       "W6    100.000000"
      ]
     },
     "metadata": {},
     "output_type": "display_data"
    }
   ],
   "source": [
    "stu_avg_module_1 = avg_weekly_att_mod1(mod1, student_ID)\n",
    "\n",
    "print(f\"The dataframe below is for average weekly attendance of student\\n\\\n",
    "{student_ID} in {mod1}:\")\n",
    "\n",
    "display(stu_avg_module_1)"
   ]
  },
  {
   "cell_type": "markdown",
   "id": "98826b6a",
   "metadata": {},
   "source": [
    "A similar function (avg_weekly_att_mod2) is created to calculate the weekly average attendance for the specified student in module 2 which is specified by the user."
   ]
  },
  {
   "cell_type": "code",
   "execution_count": 11,
   "id": "3b57e883",
   "metadata": {},
   "outputs": [
    {
     "name": "stdout",
     "output_type": "stream",
     "text": [
      "The dataframe below is for average weekly attendance of student\n",
      "1 in 22COA111:\n"
     ]
    },
    {
     "data": {
      "text/html": [
       "<div>\n",
       "<style scoped>\n",
       "    .dataframe tbody tr th:only-of-type {\n",
       "        vertical-align: middle;\n",
       "    }\n",
       "\n",
       "    .dataframe tbody tr th {\n",
       "        vertical-align: top;\n",
       "    }\n",
       "\n",
       "    .dataframe thead th {\n",
       "        text-align: right;\n",
       "    }\n",
       "</style>\n",
       "<table border=\"1\" class=\"dataframe\">\n",
       "  <thead>\n",
       "    <tr style=\"text-align: right;\">\n",
       "      <th></th>\n",
       "      <th>1</th>\n",
       "    </tr>\n",
       "    <tr>\n",
       "      <th>Week</th>\n",
       "      <th></th>\n",
       "    </tr>\n",
       "  </thead>\n",
       "  <tbody>\n",
       "    <tr>\n",
       "      <th>W1</th>\n",
       "      <td>100.000000</td>\n",
       "    </tr>\n",
       "    <tr>\n",
       "      <th>W2</th>\n",
       "      <td>66.666667</td>\n",
       "    </tr>\n",
       "    <tr>\n",
       "      <th>W3</th>\n",
       "      <td>100.000000</td>\n",
       "    </tr>\n",
       "    <tr>\n",
       "      <th>W4</th>\n",
       "      <td>100.000000</td>\n",
       "    </tr>\n",
       "    <tr>\n",
       "      <th>W5</th>\n",
       "      <td>100.000000</td>\n",
       "    </tr>\n",
       "  </tbody>\n",
       "</table>\n",
       "</div>"
      ],
      "text/plain": [
       "               1\n",
       "Week            \n",
       "W1    100.000000\n",
       "W2     66.666667\n",
       "W3    100.000000\n",
       "W4    100.000000\n",
       "W5    100.000000"
      ]
     },
     "metadata": {},
     "output_type": "display_data"
    }
   ],
   "source": [
    "stu_avg_module_2 = avg_weekly_att_mod2(mod2, student_ID)\n",
    "\n",
    "print(f\"The dataframe below is for average weekly attendance of student\\n\\\n",
    "{student_ID} in {mod2}:\")\n",
    "\n",
    "display(stu_avg_module_2)"
   ]
  },
  {
   "cell_type": "markdown",
   "id": "3676a0c6",
   "metadata": {},
   "source": [
    "Running the function (join_module_data) combined the above two weekly average attendance pandas dataframes into a single pandas dataframe so that they can be viewed side by side, ready to create a visualisation."
   ]
  },
  {
   "cell_type": "code",
   "execution_count": 12,
   "id": "f4d17f3c",
   "metadata": {},
   "outputs": [
    {
     "name": "stdout",
     "output_type": "stream",
     "text": [
      "Df below shows avg weekly attendance percentage for a student with ID\n",
      "1 in both 22COA122 and 22COA111:\n"
     ]
    },
    {
     "data": {
      "text/html": [
       "<div>\n",
       "<style scoped>\n",
       "    .dataframe tbody tr th:only-of-type {\n",
       "        vertical-align: middle;\n",
       "    }\n",
       "\n",
       "    .dataframe tbody tr th {\n",
       "        vertical-align: top;\n",
       "    }\n",
       "\n",
       "    .dataframe thead th {\n",
       "        text-align: right;\n",
       "    }\n",
       "</style>\n",
       "<table border=\"1\" class=\"dataframe\">\n",
       "  <thead>\n",
       "    <tr style=\"text-align: right;\">\n",
       "      <th></th>\n",
       "      <th>1_22COA122</th>\n",
       "      <th>1_22COA111</th>\n",
       "    </tr>\n",
       "    <tr>\n",
       "      <th>Week</th>\n",
       "      <th></th>\n",
       "      <th></th>\n",
       "    </tr>\n",
       "  </thead>\n",
       "  <tbody>\n",
       "    <tr>\n",
       "      <th>W1</th>\n",
       "      <td>66.666667</td>\n",
       "      <td>100.000000</td>\n",
       "    </tr>\n",
       "    <tr>\n",
       "      <th>W2</th>\n",
       "      <td>66.666667</td>\n",
       "      <td>66.666667</td>\n",
       "    </tr>\n",
       "    <tr>\n",
       "      <th>W3</th>\n",
       "      <td>66.666667</td>\n",
       "      <td>100.000000</td>\n",
       "    </tr>\n",
       "    <tr>\n",
       "      <th>W4</th>\n",
       "      <td>75.000000</td>\n",
       "      <td>100.000000</td>\n",
       "    </tr>\n",
       "    <tr>\n",
       "      <th>W5</th>\n",
       "      <td>66.666667</td>\n",
       "      <td>100.000000</td>\n",
       "    </tr>\n",
       "    <tr>\n",
       "      <th>W6</th>\n",
       "      <td>100.000000</td>\n",
       "      <td>0.000000</td>\n",
       "    </tr>\n",
       "  </tbody>\n",
       "</table>\n",
       "</div>"
      ],
      "text/plain": [
       "      1_22COA122  1_22COA111\n",
       "Week                        \n",
       "W1     66.666667  100.000000\n",
       "W2     66.666667   66.666667\n",
       "W3     66.666667  100.000000\n",
       "W4     75.000000  100.000000\n",
       "W5     66.666667  100.000000\n",
       "W6    100.000000    0.000000"
      ]
     },
     "metadata": {},
     "output_type": "display_data"
    }
   ],
   "source": [
    "stu_att_df = join_module_data(stu_avg_module_1, stu_avg_module_2, mod1, mod2, student_ID)\n",
    "\n",
    "print(f\"Df below shows avg weekly attendance percentage for a student with ID\\n\\\n",
    "{student_ID} in both {mod1} and {mod2}:\")\n",
    "\n",
    "display(stu_att_df)"
   ]
  },
  {
   "cell_type": "markdown",
   "id": "85dd47cf",
   "metadata": {},
   "source": [
    "The final function (stu_att_graph) is used to create a bar plot using the pandas dataframe above. It plots the weekly attendance for the student in both modules side by side in a separate colour. Module code is shown in the legend."
   ]
  },
  {
   "cell_type": "code",
   "execution_count": 13,
   "id": "eb1b9be3",
   "metadata": {},
   "outputs": [
    {
     "data": {
      "image/png": "[encoded data removed]",
      "text/plain": [
       "<Figure size 640x480 with 1 Axes>"
      ]
     },
     "metadata": {},
     "output_type": "display_data"
    }
   ],
   "source": [
    "stu_att_figure = stu_att_graph(stu_att_df, mod1, mod2, student_ID)"
   ]
  }
 ],
 "metadata": {
  "kernelspec": {
   "display_name": "Python 3 (ipykernel)",
   "language": "python",
   "name": "python3"
  },
  "language_info": {
   "codemirror_mode": {
    "name": "ipython",
    "version": 3
   },
   "file_extension": ".py",
   "mimetype": "text/x-python",
   "name": "python",
   "nbconvert_exporter": "python",
   "pygments_lexer": "ipython3",
   "version": "3.8.5"
  }
 },
 "nbformat": 4,
 "nbformat_minor": 5
}
