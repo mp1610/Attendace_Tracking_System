{
 "cells": [
  {
   "cell_type": "markdown",
   "id": "e5acb13f",
   "metadata": {},
   "source": [
    "# Menu"
   ]
  },
  {
   "cell_type": "markdown",
   "id": "9e5ed222",
   "metadata": {},
   "source": [
    "A python main program which provides the required menu\n",
    "options to the senior tutor for the program functionalities. The menu could\n",
    "be based on the Graphical User Interface (e.g. tkinter module or Jupyter\n",
    "Widgets).\n",
    "Ensure that all your results are presented in the Jupyter notebook and your\n",
    "codes are executable."
   ]
  },
  {
   "cell_type": "markdown",
   "id": "34c5b27c",
   "metadata": {},
   "source": [
    "Note: Because Poor_Att_Separate & Poor_Att_Merged have overlapping function names, only Poor_Att_Merged will be used in the GUI. To view the dataframe and visualisation for Poor_Att_Separate, please go to the notebook titled 'Poor_Att_Separate'."
   ]
  },
  {
   "cell_type": "markdown",
   "id": "42bf93e7",
   "metadata": {},
   "source": [
    "This notebook is having trouble trying to import functions from CW_Preprocessing. Due to this, new csv files other than COA122 and COA111 can only be used in the GUI only if they have already been read in the CW_Preprocessing notebook and have been cleaned through that process. Hence, they are already in the SQL database."
   ]
  },
  {
   "cell_type": "code",
   "execution_count": 1,
   "id": "7eb88d8f",
   "metadata": {},
   "outputs": [],
   "source": [
    "import pandas as pd\n",
    "import ipynb\n",
    "import ipywidgets as widgets\n",
    "\n",
    "#from ipynb.fs.defs.CW_Preprocessing import *\n",
    "from ipynb.fs.defs.Student_Att import *\n",
    "from ipynb.fs.defs.Module_Att import *\n",
    "from ipynb.fs.defs.Poor_Att_Separate import *\n",
    "from ipynb.fs.defs.Poor_Att_Merged import *"
   ]
  },
  {
   "cell_type": "code",
   "execution_count": 2,
   "id": "26f06dc9",
   "metadata": {},
   "outputs": [],
   "source": [
    "# print(dir()) # shows the functions have been imported successfully"
   ]
  },
  {
   "cell_type": "markdown",
   "id": "73148423",
   "metadata": {},
   "source": [
    "### Define variables to use in all functions"
   ]
  },
  {
   "cell_type": "markdown",
   "id": "fc402245",
   "metadata": {},
   "source": [
    "Call all the variables prior to running the GUI. If you want to change student_ID or module codes or week values, come back to this section, re-run the relevant code chunk and then run the Menu code again."
   ]
  },
  {
   "cell_type": "markdown",
   "id": "710a6b82",
   "metadata": {},
   "source": [
    "Inputs for Student Attendance code:"
   ]
  },
  {
   "cell_type": "markdown",
   "id": "f6ef5ae4",
   "metadata": {},
   "source": [
    "Note: It does not matter which module you call first, it will still work."
   ]
  },
  {
   "cell_type": "code",
   "execution_count": 3,
   "id": "081d65d8",
   "metadata": {},
   "outputs": [
    {
     "name": "stdout",
     "output_type": "stream",
     "text": [
      "Please enter a student ID (e.g. 1, 240):1\n",
      "Please enter module 1 code (e.g. 22COA122):22COA111\n",
      "Please enter module 2 code (e.g. 22COA111 ):22COA122\n"
     ]
    }
   ],
   "source": [
    "student_ID = input(\"Please enter a student ID (e.g. 1, 240):\")\n",
    "mod1 = input(\"Please enter module 1 code (e.g. 22COA122):\")\n",
    "mod2 = input(\"Please enter module 2 code (e.g. 22COA111 ):\")"
   ]
  },
  {
   "cell_type": "markdown",
   "id": "b6b62e99",
   "metadata": {},
   "source": [
    "Inputs for Module Attendance code:"
   ]
  },
  {
   "cell_type": "code",
   "execution_count": 1,
   "id": "bb3ef862",
   "metadata": {},
   "outputs": [
    {
     "name": "stdout",
     "output_type": "stream",
     "text": [
      "The module code is (e.g.\n",
      "22COA122ModuleRegister or 22COA111ModuleRegister):22COA122ModuleRegister\n",
      "The week value is (e.g. W1, W2, W3, W5):W1\n"
     ]
    }
   ],
   "source": [
    "module_code = input(\"The module code is (e.g.\\n\\\n",
    "22COA122ModuleRegister or 22COA111ModuleRegister):\")\n",
    "week_value = input (\"The week value is (e.g. W1, W2, W3, W5):\")"
   ]
  },
  {
   "cell_type": "markdown",
   "id": "1bfe210a",
   "metadata": {},
   "source": [
    "Inputs for Poor Attendance Merged code:"
   ]
  },
  {
   "cell_type": "markdown",
   "id": "baef4555",
   "metadata": {},
   "source": [
    "Note: It does not matter which module you call first."
   ]
  },
  {
   "cell_type": "code",
   "execution_count": 5,
   "id": "a7b68b3d",
   "metadata": {},
   "outputs": [
    {
     "name": "stdout",
     "output_type": "stream",
     "text": [
      "Enter a module code (e.g. 22COA122):22COA111\n",
      "Enter a module code (e.g. 22COA111):22COA122\n"
     ]
    }
   ],
   "source": [
    "module_code_1 = input(\"Enter a module code (e.g. 22COA122):\")\n",
    "module_code_2 = input(\"Enter a module code (e.g. 22COA111):\")"
   ]
  },
  {
   "cell_type": "markdown",
   "id": "c99b379b",
   "metadata": {},
   "source": [
    "## Functions"
   ]
  },
  {
   "cell_type": "markdown",
   "id": "7dfd43f1",
   "metadata": {},
   "source": [
    "These functions are simply calling already created functions from other notebooks."
   ]
  },
  {
   "cell_type": "code",
   "execution_count": 6,
   "id": "6ec33a91",
   "metadata": {},
   "outputs": [],
   "source": [
    "def clicked_student_att(b):\n",
    "    \"\"\"\n",
    "    This function calls a series of functions required to develop\n",
    "    a visualisation for Student Attendance.\n",
    "    \n",
    "    Args:\n",
    "    b : Widgets Box\n",
    "    \n",
    "    Returns:\n",
    "    None\n",
    "    \"\"\"\n",
    "    stu_avg_module_1 = avg_weekly_att_mod1(mod1, student_ID)\n",
    "    stu_avg_module_2 = avg_weekly_att_mod2(mod2, student_ID)\n",
    "    stu_att_df = join_module_data(stu_avg_module_1, stu_avg_module_2,\n",
    "                                  mod1, mod2, student_ID)\n",
    "    with output:\n",
    "        print(f\"Df below shows avg weekly attendance percentage for a student\\n\\\n",
    "        with ID {student_ID} in both {mod1} and {mod2}:\")\n",
    "        display(stu_att_df)\n",
    "        stu_att_figure = stu_att_graph(stu_att_df, mod1, mod2, student_ID)\n",
    "        print(\"Task Complete\")\n",
    "        \n",
    "def clicked_module_att(b):\n",
    "    \"\"\"\n",
    "    This function calls a series of functions required to develop\n",
    "    a visualisation for Module Attendance.\n",
    "    \n",
    "    Args:\n",
    "    b : Widgets Box\n",
    "    \n",
    "    Returns:\n",
    "    None\n",
    "    \"\"\"\n",
    "    df_attendance, df_sessions = read_sql_to_pandas(module_code)\n",
    "    df_attendance = df_fillna_0(df_attendance)\n",
    "    df_attendance = avg_session_att(df_attendance)\n",
    "    merged_df = merged_att_sesh_df(df_attendance, df_sessions)\n",
    "    module_weekly_att_df = weekly_module_att(merged_df)\n",
    "    module_att_wk = module_att(module_weekly_att_df, week_value)\n",
    "    with output:\n",
    "        # using highlight_attendance function\n",
    "        print(f\"\\nAttendance record for {module_code} Week {week_value}:\")\n",
    "        att_table_colour = module_att_wk.style.applymap\\\n",
    "        (highlight_attendance_1,subset=['avg_att'])\n",
    "        \n",
    "        display(att_table_colour)\n",
    "        print(\"Task Complete\")\n",
    "        \n",
    "# def clicked_poor_att(b):\n",
    "#     with output:\n",
    "#         df_att, df_ssn = read_sql_to_pd(module_code)\n",
    "#         stu_week_att = merged_df(df_att, df_ssn)\n",
    "#         stu_avg_module = stu_week_module(stu_week_att)\n",
    "#         dept_avg = poor_att_criteria(stu_avg_module)\n",
    "#         poor_att_df = poor_att_stu_df(stu_avg_module, dept_avg)\n",
    "#         # using highlight_attendance function\n",
    "#         print(f\"\\nAttendance record for Students with poor attendance:\")\n",
    "#         poor_att_df_colour = poor_att_df.style.applymap(lambda x:highlight_attendance_2(x, dept_avg))\n",
    "#         display(poor_att_df_colour)\n",
    "#         stu_random, wkly_avg_module = random_student_select(stu_avg_module, poor_att_df)\n",
    "#         print(f\"\\nAttendance record for random sample of students with low attendance:\")\n",
    "#         display(stu_random)\n",
    "#         poor_att_vis = poor_att_graph(stu_random, module_code)\n",
    "#         print(\"Task Complete\")\n",
    "        \n",
    "def clicked_poor_att(b):\n",
    "    \"\"\"\n",
    "    This function calls a series of functions required to develop\n",
    "    a visualisation for Poor Attendance.\n",
    "    \n",
    "    Args:\n",
    "    b : Widgets Box\n",
    "    \n",
    "    Returns:\n",
    "    None\n",
    "    \"\"\"\n",
    "    with output:\n",
    "        df_att_1, df_ssn_1, df_att_2, df_ssn_2 = read_sql_to_pd(module_code_1,\n",
    "                                                                module_code_2)\n",
    "        stu_week_att_1,stu_avg_module_1 = modify_df_1(df_att_1, df_ssn_1)\n",
    "        stu_week_att_2,stu_avg_module_2 = modify_df_2(df_att_2, df_ssn_2)\n",
    "        merged_df = merge_both_modules(stu_week_att_1,stu_week_att_2)\n",
    "        stu_avg_module = wkly_stu_avg_merged(merged_df)\n",
    "        poor_att_df, dept_avg = create_poor_att_df(stu_avg_module)\n",
    "        \n",
    "        poor_att_df_colour = display_coloured_table\\\n",
    "        (poor_att_df,highlight_attendance_2,dept_avg)\n",
    "        \n",
    "        print(f\"\\nAttendance record for students with poor attendance:\")\n",
    "        display(poor_att_df_colour)\n",
    "        stu_random, wkly_avg_module = sample_df_poor_att\\\n",
    "        (stu_avg_module,poor_att_df)\n",
    "        \n",
    "        print(f\"\\nAttendance record for sample of students with low att:\")\n",
    "        display(stu_random)\n",
    "        poor_att_vis = poor_att_sample_graph\\\n",
    "        (stu_avg_module_1, stu_avg_module_2,stu_random,\n",
    "         module_code_1,module_code_2)\n",
    "        \n",
    "        print(\"Task Complete\")\n",
    "        \n",
    "def clicked_clear_output(b):\n",
    "    output.clear_output() "
   ]
  },
  {
   "cell_type": "markdown",
   "id": "46d20351",
   "metadata": {},
   "source": [
    "## Menu"
   ]
  },
  {
   "cell_type": "code",
   "execution_count": 7,
   "id": "5379f4e4",
   "metadata": {},
   "outputs": [
    {
     "data": {
      "application/vnd.jupyter.widget-view+json": {
       "model_id": "6c028aa22cef44e4baf90d730e0c88ff",
       "version_major": 2,
       "version_minor": 0
      },
      "text/plain": [
       "VBox(children=(HBox(children=(Button(description='Show Student Att', style=ButtonStyle()), Button(description=…"
      ]
     },
     "metadata": {},
     "output_type": "display_data"
    }
   ],
   "source": [
    "btnStu_Att = widgets.Button(description = 'Show Student Att')\n",
    "btnMod_Att = widgets.Button(description = 'Show Module Att')\n",
    "btnPoor_Att = widgets.Button(description = 'Show Poor Att')\n",
    "btnClear = widgets.Button(description='Clear')\n",
    "\n",
    "output = widgets.Output()\n",
    "\n",
    "\n",
    "b=widgets.HBox([btnStu_Att,btnMod_Att,btnPoor_Att, btnClear])\n",
    "allWidgets=widgets.VBox([b,output])\n",
    "\n",
    "\n",
    "btnStu_Att.on_click(clicked_student_att)\n",
    "btnMod_Att.on_click(clicked_module_att)\n",
    "btnPoor_Att.on_click(clicked_poor_att)\n",
    "btnClear.on_click(clicked_clear_output)\n",
    "\n",
    "\n",
    "\n",
    "display(allWidgets)"
   ]
  }
 ],
 "metadata": {
  "kernelspec": {
   "display_name": "Python 3 (ipykernel)",
   "language": "python",
   "name": "python3"
  },
  "language_info": {
   "codemirror_mode": {
    "name": "ipython",
    "version": 3
   },
   "file_extension": ".py",
   "mimetype": "text/x-python",
   "name": "python",
   "nbconvert_exporter": "python",
   "pygments_lexer": "ipython3",
   "version": "3.8.5"
  }
 },
 "nbformat": 4,
 "nbformat_minor": 5
}
